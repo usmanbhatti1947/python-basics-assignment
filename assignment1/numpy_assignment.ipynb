{
  "nbformat": 4,
  "nbformat_minor": 0,
  "metadata": {
    "colab": {
      "provenance": [],
      "authorship_tag": "ABX9TyOJEiCNn6l74c5MSzBupteo",
      "include_colab_link": true
    },
    "kernelspec": {
      "name": "python3",
      "display_name": "Python 3"
    },
    "language_info": {
      "name": "python"
    }
  },
  "cells": [
    {
      "cell_type": "markdown",
      "metadata": {
        "id": "view-in-github",
        "colab_type": "text"
      },
      "source": [
        "<a href=\"https://colab.research.google.com/github/usmanbhatti1947/python-basics-assignment/blob/main/numpy_assignment.ipynb\" target=\"_parent\"><img src=\"https://colab.research.google.com/assets/colab-badge.svg\" alt=\"Open In Colab\"/></a>"
      ]
    },
    {
      "cell_type": "code",
      "execution_count": 1,
      "metadata": {
        "id": "kTvXtEKvYFo2"
      },
      "outputs": [],
      "source": [
        "import numpy as np"
      ]
    },
    {
      "cell_type": "code",
      "source": [
        "students = np.array([\"Alice\", \"Bob\", \"Charlie\", \"David\", \"Emma\"])"
      ],
      "metadata": {
        "id": "jUukwqwDIX81"
      },
      "execution_count": 2,
      "outputs": []
    },
    {
      "cell_type": "code",
      "source": [
        "students.shape"
      ],
      "metadata": {
        "colab": {
          "base_uri": "https://localhost:8080/"
        },
        "id": "h8J5am7_I4gt",
        "outputId": "2e838239-43cc-4105-bc24-9830a2241cd8"
      },
      "execution_count": 3,
      "outputs": [
        {
          "output_type": "execute_result",
          "data": {
            "text/plain": [
              "(5,)"
            ]
          },
          "metadata": {},
          "execution_count": 3
        }
      ]
    },
    {
      "cell_type": "code",
      "source": [
        "students.size"
      ],
      "metadata": {
        "colab": {
          "base_uri": "https://localhost:8080/"
        },
        "id": "a-V3pGH_JL-O",
        "outputId": "87db72b4-3d6a-464e-97ea-fb39c020c9e5"
      },
      "execution_count": 4,
      "outputs": [
        {
          "output_type": "execute_result",
          "data": {
            "text/plain": [
              "5"
            ]
          },
          "metadata": {},
          "execution_count": 4
        }
      ]
    },
    {
      "cell_type": "code",
      "source": [
        "type(students)"
      ],
      "metadata": {
        "colab": {
          "base_uri": "https://localhost:8080/"
        },
        "id": "LRtgADIlJPjE",
        "outputId": "7f92772a-2db8-4547-f079-11e686cd941f"
      },
      "execution_count": 32,
      "outputs": [
        {
          "output_type": "execute_result",
          "data": {
            "text/plain": [
              "numpy.ndarray"
            ]
          },
          "metadata": {},
          "execution_count": 32
        }
      ]
    },
    {
      "cell_type": "code",
      "source": [
        "scores = np.array([\n",
        "[85, 78, 92],\n",
        "[88, np.nan, 80],\n",
        "[75, 85, 79],\n",
        "[np.nan, 90, 82],\n",
        "[89, 76, 91]\n",
        "])"
      ],
      "metadata": {
        "id": "I59dn0vVIi_u"
      },
      "execution_count": 34,
      "outputs": []
    },
    {
      "cell_type": "code",
      "source": [
        "type(scores)"
      ],
      "metadata": {
        "colab": {
          "base_uri": "https://localhost:8080/"
        },
        "id": "L7z5oL5sJYRY",
        "outputId": "8ccf24e3-eeb4-460b-c59e-d7351441ad46"
      },
      "execution_count": 7,
      "outputs": [
        {
          "output_type": "execute_result",
          "data": {
            "text/plain": [
              "numpy.ndarray"
            ]
          },
          "metadata": {},
          "execution_count": 7
        }
      ]
    },
    {
      "cell_type": "code",
      "source": [
        "scores.shape"
      ],
      "metadata": {
        "colab": {
          "base_uri": "https://localhost:8080/"
        },
        "id": "9bPKpfH_h28g",
        "outputId": "79ae382a-50c4-437e-c884-3f50aef0f61e"
      },
      "execution_count": 35,
      "outputs": [
        {
          "output_type": "execute_result",
          "data": {
            "text/plain": [
              "(5, 3)"
            ]
          },
          "metadata": {},
          "execution_count": 35
        }
      ]
    },
    {
      "cell_type": "code",
      "source": [
        "scores.size"
      ],
      "metadata": {
        "colab": {
          "base_uri": "https://localhost:8080/"
        },
        "id": "Kk6l21k8h9cX",
        "outputId": "87293357-8a66-4a7f-ed21-2aeaca82b62f"
      },
      "execution_count": 36,
      "outputs": [
        {
          "output_type": "execute_result",
          "data": {
            "text/plain": [
              "15"
            ]
          },
          "metadata": {},
          "execution_count": 36
        }
      ]
    },
    {
      "cell_type": "code",
      "source": [
        "attendance = np.array([90, 85, 95, np.nan, 88])"
      ],
      "metadata": {
        "id": "Q5yhdHQwIqqz"
      },
      "execution_count": 10,
      "outputs": []
    },
    {
      "cell_type": "code",
      "source": [
        "attendance.shape"
      ],
      "metadata": {
        "colab": {
          "base_uri": "https://localhost:8080/"
        },
        "id": "awWtPM-9iVsO",
        "outputId": "18ec931e-4dfe-405c-dd56-3936dbb084e7"
      },
      "execution_count": 11,
      "outputs": [
        {
          "output_type": "execute_result",
          "data": {
            "text/plain": [
              "(5,)"
            ]
          },
          "metadata": {},
          "execution_count": 11
        }
      ]
    },
    {
      "cell_type": "code",
      "source": [
        "attendance.size"
      ],
      "metadata": {
        "colab": {
          "base_uri": "https://localhost:8080/"
        },
        "id": "9gfs_Q60iaUw",
        "outputId": "2a07e842-dc6b-4659-da42-083c35015168"
      },
      "execution_count": 12,
      "outputs": [
        {
          "output_type": "execute_result",
          "data": {
            "text/plain": [
              "5"
            ]
          },
          "metadata": {},
          "execution_count": 12
        }
      ]
    },
    {
      "cell_type": "code",
      "source": [
        "type(attendance)"
      ],
      "metadata": {
        "colab": {
          "base_uri": "https://localhost:8080/"
        },
        "id": "hfTnlArlidMD",
        "outputId": "4897547f-7922-45e6-f2c7-99bd565ad0df"
      },
      "execution_count": 13,
      "outputs": [
        {
          "output_type": "execute_result",
          "data": {
            "text/plain": [
              "numpy.ndarray"
            ]
          },
          "metadata": {},
          "execution_count": 13
        }
      ]
    },
    {
      "cell_type": "markdown",
      "source": [
        "##Data cleaning and handling missing values\n",
        "###cahnging nan values in scores with mean value"
      ],
      "metadata": {
        "id": "cKskeKaJimSN"
      }
    },
    {
      "cell_type": "code",
      "source": [
        "# scores[np.isnan(scores)] #return an array of nan values\n",
        "scores"
      ],
      "metadata": {
        "colab": {
          "base_uri": "https://localhost:8080/"
        },
        "id": "M7eoBtPwizl7",
        "outputId": "d0389431-7c45-494a-daf6-01e9ab0b5410"
      },
      "execution_count": 37,
      "outputs": [
        {
          "output_type": "execute_result",
          "data": {
            "text/plain": [
              "array([[85., 78., 92.],\n",
              "       [88., nan, 80.],\n",
              "       [75., 85., 79.],\n",
              "       [nan, 90., 82.],\n",
              "       [89., 76., 91.]])"
            ]
          },
          "metadata": {},
          "execution_count": 37
        }
      ]
    },
    {
      "cell_type": "code",
      "source": [
        "column_score_0 = scores[ : ,0] # ignoring nan value find mean value at 0 index of column\n",
        "column_score_0\n",
        "\n",
        "\n",
        "# scores[3,0] = mean_value\n",
        "# scores"
      ],
      "metadata": {
        "colab": {
          "base_uri": "https://localhost:8080/"
        },
        "id": "OVi9P3rck6Sl",
        "outputId": "44f5b7fb-f60a-4fde-9d17-5c7390d9be33"
      },
      "execution_count": 38,
      "outputs": [
        {
          "output_type": "execute_result",
          "data": {
            "text/plain": [
              "array([85., 88., 75., nan, 89.])"
            ]
          },
          "metadata": {},
          "execution_count": 38
        }
      ]
    },
    {
      "cell_type": "code",
      "source": [
        "sum_value_0 = np.nansum(column_score_0)\n",
        "sum_value_0"
      ],
      "metadata": {
        "colab": {
          "base_uri": "https://localhost:8080/"
        },
        "id": "ApnfZurftJik",
        "outputId": "b8b29811-7c86-4928-9d67-c540d44553e7"
      },
      "execution_count": 39,
      "outputs": [
        {
          "output_type": "execute_result",
          "data": {
            "text/plain": [
              "337.0"
            ]
          },
          "metadata": {},
          "execution_count": 39
        }
      ]
    },
    {
      "cell_type": "code",
      "source": [
        "mean_value_0 = sum_value_0/5\n",
        "scores[3,0] = mean_value_0\n",
        "scores"
      ],
      "metadata": {
        "colab": {
          "base_uri": "https://localhost:8080/"
        },
        "id": "3ywIMk96vBIS",
        "outputId": "550d0529-262c-4a67-fc78-bc9e8bfb5cb2"
      },
      "execution_count": 40,
      "outputs": [
        {
          "output_type": "execute_result",
          "data": {
            "text/plain": [
              "array([[85. , 78. , 92. ],\n",
              "       [88. ,  nan, 80. ],\n",
              "       [75. , 85. , 79. ],\n",
              "       [67.4, 90. , 82. ],\n",
              "       [89. , 76. , 91. ]])"
            ]
          },
          "metadata": {},
          "execution_count": 40
        }
      ]
    },
    {
      "cell_type": "code",
      "source": [
        "column_score_1 = scores[ : ,1] # ignoring nan value find mean value at 1 index of column\n",
        "column_score_1"
      ],
      "metadata": {
        "colab": {
          "base_uri": "https://localhost:8080/"
        },
        "id": "ZoSeOrnxwGk-",
        "outputId": "7449c0b3-84ad-4d23-c0a6-8c4d8e6668bf"
      },
      "execution_count": 41,
      "outputs": [
        {
          "output_type": "execute_result",
          "data": {
            "text/plain": [
              "array([78., nan, 85., 90., 76.])"
            ]
          },
          "metadata": {},
          "execution_count": 41
        }
      ]
    },
    {
      "cell_type": "code",
      "source": [
        "sum_value_1 = np.nansum(column_score_0)\n",
        "sum_value_1"
      ],
      "metadata": {
        "colab": {
          "base_uri": "https://localhost:8080/"
        },
        "id": "psA6SYAtxZqF",
        "outputId": "f438c4f1-b813-4070-8692-c6dbf0612eae"
      },
      "execution_count": 42,
      "outputs": [
        {
          "output_type": "execute_result",
          "data": {
            "text/plain": [
              "404.4"
            ]
          },
          "metadata": {},
          "execution_count": 42
        }
      ]
    },
    {
      "cell_type": "code",
      "source": [
        "mean_value_1 = sum_value_1/5\n",
        "scores[1,1] = mean_value_1\n",
        "scores"
      ],
      "metadata": {
        "colab": {
          "base_uri": "https://localhost:8080/"
        },
        "id": "Eqo9FpnAxo-T",
        "outputId": "7fdfb008-6fac-441c-fe24-bca4633b8437"
      },
      "execution_count": 60,
      "outputs": [
        {
          "output_type": "execute_result",
          "data": {
            "text/plain": [
              "array([[85.  , 78.  , 92.  ],\n",
              "       [88.  , 80.88, 80.  ],\n",
              "       [75.  , 85.  , 79.  ],\n",
              "       [67.4 , 90.  , 82.  ],\n",
              "       [89.  , 76.  , 91.  ]])"
            ]
          },
          "metadata": {},
          "execution_count": 60
        }
      ]
    },
    {
      "cell_type": "code",
      "source": [
        "#Repalcing nan value with mean\n",
        "# scores[np.isnan(scores)] = mean_value\n",
        "# scores"
      ],
      "metadata": {
        "id": "ieh7zFKLlFPG"
      },
      "execution_count": 61,
      "outputs": []
    },
    {
      "cell_type": "markdown",
      "source": [
        "###Changing nan values with mean in attendance"
      ],
      "metadata": {
        "id": "1kvWm0asmje6"
      }
    },
    {
      "cell_type": "code",
      "source": [
        "attendance_mean = np.nanmean(attendance)\n",
        "attendance_mean"
      ],
      "metadata": {
        "colab": {
          "base_uri": "https://localhost:8080/"
        },
        "id": "Tpr93Jz5nCK-",
        "outputId": "a8bbf282-e4d9-463d-addd-e6af0c044f1c"
      },
      "execution_count": 62,
      "outputs": [
        {
          "output_type": "execute_result",
          "data": {
            "text/plain": [
              "89.5"
            ]
          },
          "metadata": {},
          "execution_count": 62
        }
      ]
    },
    {
      "cell_type": "code",
      "source": [
        "attendance[np.isnan(attendance)] = attendance_mean\n",
        "attendance"
      ],
      "metadata": {
        "colab": {
          "base_uri": "https://localhost:8080/"
        },
        "id": "8-EcpuGumtlX",
        "outputId": "efa78b25-e44d-49a3-a435-cce5ad74c274"
      },
      "execution_count": 63,
      "outputs": [
        {
          "output_type": "execute_result",
          "data": {
            "text/plain": [
              "array([90. , 85. , 95. , 89.5, 88. ])"
            ]
          },
          "metadata": {},
          "execution_count": 63
        }
      ]
    },
    {
      "cell_type": "markdown",
      "source": [
        "##Calculate mean median std score of students"
      ],
      "metadata": {
        "id": "pRh7U7G0qWk_"
      }
    },
    {
      "cell_type": "code",
      "source": [
        "np.mean(scores)"
      ],
      "metadata": {
        "colab": {
          "base_uri": "https://localhost:8080/"
        },
        "id": "wjbgiyrmqVYS",
        "outputId": "e3f6ea0d-c952-4441-a61a-3b695314940b"
      },
      "execution_count": 64,
      "outputs": [
        {
          "output_type": "execute_result",
          "data": {
            "text/plain": [
              "82.55199999999999"
            ]
          },
          "metadata": {},
          "execution_count": 64
        }
      ]
    },
    {
      "cell_type": "code",
      "source": [
        "np.median(scores)"
      ],
      "metadata": {
        "colab": {
          "base_uri": "https://localhost:8080/"
        },
        "id": "Jz2r30fBq7Jc",
        "outputId": "3da86a34-158e-4ae0-d07d-5428b2edcca8"
      },
      "execution_count": 65,
      "outputs": [
        {
          "output_type": "execute_result",
          "data": {
            "text/plain": [
              "82.0"
            ]
          },
          "metadata": {},
          "execution_count": 65
        }
      ]
    },
    {
      "cell_type": "code",
      "source": [
        "np.std(scores)"
      ],
      "metadata": {
        "colab": {
          "base_uri": "https://localhost:8080/"
        },
        "id": "UWtiaiEbrBMs",
        "outputId": "57804fc6-4a7c-43f0-ee7e-2d45e04a92cf"
      },
      "execution_count": 66,
      "outputs": [
        {
          "output_type": "execute_result",
          "data": {
            "text/plain": [
              "6.692502471671812"
            ]
          },
          "metadata": {},
          "execution_count": 66
        }
      ]
    },
    {
      "cell_type": "code",
      "source": [
        "np.max(scores)"
      ],
      "metadata": {
        "colab": {
          "base_uri": "https://localhost:8080/"
        },
        "id": "WSgYJp-ErEkL",
        "outputId": "390842f0-dc99-4f75-a191-8e6fccc9a86e"
      },
      "execution_count": 67,
      "outputs": [
        {
          "output_type": "execute_result",
          "data": {
            "text/plain": [
              "92.0"
            ]
          },
          "metadata": {},
          "execution_count": 67
        }
      ]
    },
    {
      "cell_type": "code",
      "source": [
        "average_score = np.mean(scores , axis=1) #average score for each student\n",
        "average_score"
      ],
      "metadata": {
        "colab": {
          "base_uri": "https://localhost:8080/"
        },
        "id": "nHZXVM510r4v",
        "outputId": "1c86cbe9-1099-4fd7-b168-d30a4bb0b69f"
      },
      "execution_count": 68,
      "outputs": [
        {
          "output_type": "execute_result",
          "data": {
            "text/plain": [
              "array([85.        , 82.96      , 79.66666667, 79.8       , 85.33333333])"
            ]
          },
          "metadata": {},
          "execution_count": 68
        }
      ]
    },
    {
      "cell_type": "code",
      "source": [
        "total_scores = np.sum(scores, axis=1)\n",
        "performer_index = np.argmax(total_scores) #argmax method return first occurrences in case of multiple max values\n",
        "top_performer = students[performer_index]\n",
        "top_performer"
      ],
      "metadata": {
        "colab": {
          "base_uri": "https://localhost:8080/",
          "height": 35
        },
        "id": "3ou4n8x21Z_J",
        "outputId": "432ff057-45c4-4d05-e210-706b4d3a95e3"
      },
      "execution_count": 77,
      "outputs": [
        {
          "output_type": "execute_result",
          "data": {
            "text/plain": [
              "'Emma'"
            ],
            "application/vnd.google.colaboratory.intrinsic+json": {
              "type": "string"
            }
          },
          "metadata": {},
          "execution_count": 77
        }
      ]
    },
    {
      "cell_type": "code",
      "source": [
        "# for i in range(len(students)):\n",
        "#     print(f\"{students[i]}: {average_score[i]}\")"
      ],
      "metadata": {
        "id": "IO0NNqAR4LQB"
      },
      "execution_count": 76,
      "outputs": []
    },
    {
      "cell_type": "markdown",
      "source": [
        "##Reshaping and broadcasting for data analysis"
      ],
      "metadata": {
        "id": "KVAmGIf35BeR"
      }
    },
    {
      "cell_type": "markdown",
      "source": [
        "###Normalize student scores using min-max scaling:"
      ],
      "metadata": {
        "id": "tP4-dNpm5Vwd"
      }
    },
    {
      "cell_type": "code",
      "source": [
        "min_score = np.nanmin(scores, axis=0)\n",
        "# min_score\n",
        "max_score = np.nanmax(scores, axis=0)\n"
      ],
      "metadata": {
        "id": "ZR1TJ11c5bC5"
      },
      "execution_count": 80,
      "outputs": []
    },
    {
      "cell_type": "code",
      "source": [
        "normalized_scores = (scores - min_score) / (max_score - min_score)\n",
        "normalized_scores"
      ],
      "metadata": {
        "colab": {
          "base_uri": "https://localhost:8080/"
        },
        "id": "XSpoKIJ47oFC",
        "outputId": "fbeb3a5f-9d2c-4ac3-eb7b-f7ec7f22f503"
      },
      "execution_count": 81,
      "outputs": [
        {
          "output_type": "execute_result",
          "data": {
            "text/plain": [
              "array([[0.81481481, 0.14285714, 1.        ],\n",
              "       [0.9537037 , 0.34857143, 0.07692308],\n",
              "       [0.35185185, 0.64285714, 0.        ],\n",
              "       [0.        , 1.        , 0.23076923],\n",
              "       [1.        , 0.        , 0.92307692]])"
            ]
          },
          "metadata": {},
          "execution_count": 81
        }
      ]
    },
    {
      "cell_type": "code",
      "source": [
        "np.shape(scores)"
      ],
      "metadata": {
        "colab": {
          "base_uri": "https://localhost:8080/"
        },
        "id": "wd-6g4bw78Hj",
        "outputId": "3f8d6805-d1e7-4885-e480-e1d91debf49d"
      },
      "execution_count": 82,
      "outputs": [
        {
          "output_type": "execute_result",
          "data": {
            "text/plain": [
              "(5, 3)"
            ]
          },
          "metadata": {},
          "execution_count": 82
        }
      ]
    },
    {
      "cell_type": "code",
      "source": [
        "# Reshape the scores array into 3D format to simulate multiple sections/classes.\n",
        "scores_reshape = scores.reshape((1, 3, 5))\n",
        "scores_reshape\n",
        "# scores_reshape = np.reshape(scores, (1,3,5))\n",
        "# scores_reshape"
      ],
      "metadata": {
        "colab": {
          "base_uri": "https://localhost:8080/"
        },
        "id": "xpTvz2_r8G9E",
        "outputId": "a92cc51d-d6d1-4a9e-c750-bc26699f8e06"
      },
      "execution_count": 85,
      "outputs": [
        {
          "output_type": "execute_result",
          "data": {
            "text/plain": [
              "array([[[85.  , 78.  , 92.  , 88.  , 80.88],\n",
              "        [80.  , 75.  , 85.  , 79.  , 67.4 ],\n",
              "        [90.  , 82.  , 89.  , 76.  , 91.  ]]])"
            ]
          },
          "metadata": {},
          "execution_count": 85
        }
      ]
    },
    {
      "cell_type": "markdown",
      "source": [
        "###Bonus 5 score for students less than 80 in any subject"
      ],
      "metadata": {
        "id": "k0VpTr5T-Hod"
      }
    },
    {
      "cell_type": "code",
      "source": [
        "bonus_scores = np.where(scores < 80, scores + 5, scores)\n",
        "bonus_scores"
      ],
      "metadata": {
        "colab": {
          "base_uri": "https://localhost:8080/"
        },
        "id": "sknltSV9-TDO",
        "outputId": "a9f7a8df-8447-4e2e-8bff-5522494f6fef"
      },
      "execution_count": 86,
      "outputs": [
        {
          "output_type": "execute_result",
          "data": {
            "text/plain": [
              "array([[85.  , 83.  , 92.  ],\n",
              "       [88.  , 80.88, 80.  ],\n",
              "       [80.  , 85.  , 84.  ],\n",
              "       [72.4 , 90.  , 82.  ],\n",
              "       [89.  , 81.  , 91.  ]])"
            ]
          },
          "metadata": {},
          "execution_count": 86
        }
      ]
    },
    {
      "cell_type": "code",
      "source": [
        "score_attendance_stack = np.hstack([scores, attendance])\n",
        "score_attendance_stack"
      ],
      "metadata": {
        "colab": {
          "base_uri": "https://localhost:8080/",
          "height": 297
        },
        "id": "uF9ZVZCr_FDq",
        "outputId": "6bc5947f-3bcc-4065-fac3-ebc5604c0b9f"
      },
      "execution_count": 92,
      "outputs": [
        {
          "output_type": "error",
          "ename": "ValueError",
          "evalue": "all the input arrays must have same number of dimensions, but the array at index 0 has 2 dimension(s) and the array at index 1 has 1 dimension(s)",
          "traceback": [
            "\u001b[0;31m---------------------------------------------------------------------------\u001b[0m",
            "\u001b[0;31mValueError\u001b[0m                                Traceback (most recent call last)",
            "\u001b[0;32m<ipython-input-92-038aea55239d>\u001b[0m in \u001b[0;36m<cell line: 0>\u001b[0;34m()\u001b[0m\n\u001b[0;32m----> 1\u001b[0;31m \u001b[0mscore_attendance_stack\u001b[0m \u001b[0;34m=\u001b[0m \u001b[0mnp\u001b[0m\u001b[0;34m.\u001b[0m\u001b[0mhstack\u001b[0m\u001b[0;34m(\u001b[0m\u001b[0;34m[\u001b[0m\u001b[0mscores\u001b[0m\u001b[0;34m,\u001b[0m \u001b[0mattendance\u001b[0m\u001b[0;34m]\u001b[0m\u001b[0;34m)\u001b[0m\u001b[0;34m\u001b[0m\u001b[0;34m\u001b[0m\u001b[0m\n\u001b[0m\u001b[1;32m      2\u001b[0m \u001b[0mscore_attendance_stack\u001b[0m\u001b[0;34m\u001b[0m\u001b[0;34m\u001b[0m\u001b[0m\n",
            "\u001b[0;32m/usr/local/lib/python3.11/dist-packages/numpy/core/shape_base.py\u001b[0m in \u001b[0;36mhstack\u001b[0;34m(tup, dtype, casting)\u001b[0m\n\u001b[1;32m    357\u001b[0m         \u001b[0;32mreturn\u001b[0m \u001b[0m_nx\u001b[0m\u001b[0;34m.\u001b[0m\u001b[0mconcatenate\u001b[0m\u001b[0;34m(\u001b[0m\u001b[0marrs\u001b[0m\u001b[0;34m,\u001b[0m \u001b[0;36m0\u001b[0m\u001b[0;34m,\u001b[0m \u001b[0mdtype\u001b[0m\u001b[0;34m=\u001b[0m\u001b[0mdtype\u001b[0m\u001b[0;34m,\u001b[0m \u001b[0mcasting\u001b[0m\u001b[0;34m=\u001b[0m\u001b[0mcasting\u001b[0m\u001b[0;34m)\u001b[0m\u001b[0;34m\u001b[0m\u001b[0;34m\u001b[0m\u001b[0m\n\u001b[1;32m    358\u001b[0m     \u001b[0;32melse\u001b[0m\u001b[0;34m:\u001b[0m\u001b[0;34m\u001b[0m\u001b[0;34m\u001b[0m\u001b[0m\n\u001b[0;32m--> 359\u001b[0;31m         \u001b[0;32mreturn\u001b[0m \u001b[0m_nx\u001b[0m\u001b[0;34m.\u001b[0m\u001b[0mconcatenate\u001b[0m\u001b[0;34m(\u001b[0m\u001b[0marrs\u001b[0m\u001b[0;34m,\u001b[0m \u001b[0;36m1\u001b[0m\u001b[0;34m,\u001b[0m \u001b[0mdtype\u001b[0m\u001b[0;34m=\u001b[0m\u001b[0mdtype\u001b[0m\u001b[0;34m,\u001b[0m \u001b[0mcasting\u001b[0m\u001b[0;34m=\u001b[0m\u001b[0mcasting\u001b[0m\u001b[0;34m)\u001b[0m\u001b[0;34m\u001b[0m\u001b[0;34m\u001b[0m\u001b[0m\n\u001b[0m\u001b[1;32m    360\u001b[0m \u001b[0;34m\u001b[0m\u001b[0m\n\u001b[1;32m    361\u001b[0m \u001b[0;34m\u001b[0m\u001b[0m\n",
            "\u001b[0;31mValueError\u001b[0m: all the input arrays must have same number of dimensions, but the array at index 0 has 2 dimension(s) and the array at index 1 has 1 dimension(s)"
          ]
        }
      ]
    },
    {
      "cell_type": "code",
      "source": [
        "reshaped_attendance = attendance.reshape(-1,1)\n",
        "reshaped_attendance"
      ],
      "metadata": {
        "colab": {
          "base_uri": "https://localhost:8080/"
        },
        "id": "lzxLrxmBA9oc",
        "outputId": "9cad6573-7c11-40fb-f5e7-0897dcd5219e"
      },
      "execution_count": 96,
      "outputs": [
        {
          "output_type": "execute_result",
          "data": {
            "text/plain": [
              "array([[90. ],\n",
              "       [85. ],\n",
              "       [95. ],\n",
              "       [89.5],\n",
              "       [88. ]])"
            ]
          },
          "metadata": {},
          "execution_count": 96
        }
      ]
    },
    {
      "cell_type": "code",
      "source": [
        "score_attendance_stack = np.hstack([scores, reshaped_attendance])\n",
        "score_attendance_stack"
      ],
      "metadata": {
        "colab": {
          "base_uri": "https://localhost:8080/"
        },
        "id": "vZzNlwrqC2Ox",
        "outputId": "dbf08adf-fb9a-4973-d889-beb9dd23a9a9"
      },
      "execution_count": 97,
      "outputs": [
        {
          "output_type": "execute_result",
          "data": {
            "text/plain": [
              "array([[85.  , 78.  , 92.  , 90.  ],\n",
              "       [88.  , 80.88, 80.  , 85.  ],\n",
              "       [75.  , 85.  , 79.  , 95.  ],\n",
              "       [67.4 , 90.  , 82.  , 89.5 ],\n",
              "       [89.  , 76.  , 91.  , 88.  ]])"
            ]
          },
          "metadata": {},
          "execution_count": 97
        }
      ]
    },
    {
      "cell_type": "code",
      "source": [
        "split_data = np.split(score_attendance_stack,2, axis=1)\n",
        "split_data"
      ],
      "metadata": {
        "colab": {
          "base_uri": "https://localhost:8080/"
        },
        "id": "ylgSeKCyDpN8",
        "outputId": "31174b04-3319-4cee-832c-215f858dd6ab"
      },
      "execution_count": 99,
      "outputs": [
        {
          "output_type": "execute_result",
          "data": {
            "text/plain": [
              "[array([[85.  , 78.  ],\n",
              "        [88.  , 80.88],\n",
              "        [75.  , 85.  ],\n",
              "        [67.4 , 90.  ],\n",
              "        [89.  , 76.  ]]),\n",
              " array([[92. , 90. ],\n",
              "        [80. , 85. ],\n",
              "        [79. , 95. ],\n",
              "        [82. , 89.5],\n",
              "        [91. , 88. ]])]"
            ]
          },
          "metadata": {},
          "execution_count": 99
        }
      ]
    }
  ]
}