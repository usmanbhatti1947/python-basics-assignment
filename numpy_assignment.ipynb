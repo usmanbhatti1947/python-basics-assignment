{
  "nbformat": 4,
  "nbformat_minor": 0,
  "metadata": {
    "colab": {
      "provenance": [],
      "authorship_tag": "ABX9TyNeAiS3jouXL38JpREQ9GkK",
      "include_colab_link": true
    },
    "kernelspec": {
      "name": "python3",
      "display_name": "Python 3"
    },
    "language_info": {
      "name": "python"
    }
  },
  "cells": [
    {
      "cell_type": "markdown",
      "metadata": {
        "id": "view-in-github",
        "colab_type": "text"
      },
      "source": [
        "<a href=\"https://colab.research.google.com/github/usmanbhatti1947/python-basics-assignment/blob/main/numpy_assignment.ipynb\" target=\"_parent\"><img src=\"https://colab.research.google.com/assets/colab-badge.svg\" alt=\"Open In Colab\"/></a>"
      ]
    },
    {
      "cell_type": "code",
      "execution_count": 1,
      "metadata": {
        "id": "kTvXtEKvYFo2"
      },
      "outputs": [],
      "source": [
        "import numpy as np"
      ]
    },
    {
      "cell_type": "code",
      "source": [
        "students = np.array([\"Alice\", \"Bob\", \"Charlie\", \"David\", \"Emma\"])"
      ],
      "metadata": {
        "id": "jUukwqwDIX81"
      },
      "execution_count": 2,
      "outputs": []
    },
    {
      "cell_type": "code",
      "source": [
        "students.shape"
      ],
      "metadata": {
        "colab": {
          "base_uri": "https://localhost:8080/"
        },
        "id": "h8J5am7_I4gt",
        "outputId": "2e838239-43cc-4105-bc24-9830a2241cd8"
      },
      "execution_count": 3,
      "outputs": [
        {
          "output_type": "execute_result",
          "data": {
            "text/plain": [
              "(5,)"
            ]
          },
          "metadata": {},
          "execution_count": 3
        }
      ]
    },
    {
      "cell_type": "code",
      "source": [
        "students.size"
      ],
      "metadata": {
        "colab": {
          "base_uri": "https://localhost:8080/"
        },
        "id": "a-V3pGH_JL-O",
        "outputId": "87db72b4-3d6a-464e-97ea-fb39c020c9e5"
      },
      "execution_count": 4,
      "outputs": [
        {
          "output_type": "execute_result",
          "data": {
            "text/plain": [
              "5"
            ]
          },
          "metadata": {},
          "execution_count": 4
        }
      ]
    },
    {
      "cell_type": "code",
      "source": [
        "type(students)"
      ],
      "metadata": {
        "colab": {
          "base_uri": "https://localhost:8080/"
        },
        "id": "LRtgADIlJPjE",
        "outputId": "7f92772a-2db8-4547-f079-11e686cd941f"
      },
      "execution_count": 32,
      "outputs": [
        {
          "output_type": "execute_result",
          "data": {
            "text/plain": [
              "numpy.ndarray"
            ]
          },
          "metadata": {},
          "execution_count": 32
        }
      ]
    },
    {
      "cell_type": "code",
      "source": [
        "scores = np.array([\n",
        "[85, 78, 92],\n",
        "[88, np.nan, 80],\n",
        "[75, 85, 79],\n",
        "[np.nan, 90, 82],\n",
        "[89, 76, 91]\n",
        "])"
      ],
      "metadata": {
        "id": "I59dn0vVIi_u"
      },
      "execution_count": 34,
      "outputs": []
    },
    {
      "cell_type": "code",
      "source": [
        "type(scores)"
      ],
      "metadata": {
        "colab": {
          "base_uri": "https://localhost:8080/"
        },
        "id": "L7z5oL5sJYRY",
        "outputId": "8ccf24e3-eeb4-460b-c59e-d7351441ad46"
      },
      "execution_count": 7,
      "outputs": [
        {
          "output_type": "execute_result",
          "data": {
            "text/plain": [
              "numpy.ndarray"
            ]
          },
          "metadata": {},
          "execution_count": 7
        }
      ]
    },
    {
      "cell_type": "code",
      "source": [
        "scores.shape"
      ],
      "metadata": {
        "colab": {
          "base_uri": "https://localhost:8080/"
        },
        "id": "9bPKpfH_h28g",
        "outputId": "79ae382a-50c4-437e-c884-3f50aef0f61e"
      },
      "execution_count": 35,
      "outputs": [
        {
          "output_type": "execute_result",
          "data": {
            "text/plain": [
              "(5, 3)"
            ]
          },
          "metadata": {},
          "execution_count": 35
        }
      ]
    },
    {
      "cell_type": "code",
      "source": [
        "scores.size"
      ],
      "metadata": {
        "colab": {
          "base_uri": "https://localhost:8080/"
        },
        "id": "Kk6l21k8h9cX",
        "outputId": "87293357-8a66-4a7f-ed21-2aeaca82b62f"
      },
      "execution_count": 36,
      "outputs": [
        {
          "output_type": "execute_result",
          "data": {
            "text/plain": [
              "15"
            ]
          },
          "metadata": {},
          "execution_count": 36
        }
      ]
    },
    {
      "cell_type": "code",
      "source": [
        "attendance = np.array([90, 85, 95, np.nan, 88])"
      ],
      "metadata": {
        "id": "Q5yhdHQwIqqz"
      },
      "execution_count": 10,
      "outputs": []
    },
    {
      "cell_type": "code",
      "source": [
        "attendance.shape"
      ],
      "metadata": {
        "colab": {
          "base_uri": "https://localhost:8080/"
        },
        "id": "awWtPM-9iVsO",
        "outputId": "18ec931e-4dfe-405c-dd56-3936dbb084e7"
      },
      "execution_count": 11,
      "outputs": [
        {
          "output_type": "execute_result",
          "data": {
            "text/plain": [
              "(5,)"
            ]
          },
          "metadata": {},
          "execution_count": 11
        }
      ]
    },
    {
      "cell_type": "code",
      "source": [
        "attendance.size"
      ],
      "metadata": {
        "colab": {
          "base_uri": "https://localhost:8080/"
        },
        "id": "9gfs_Q60iaUw",
        "outputId": "2a07e842-dc6b-4659-da42-083c35015168"
      },
      "execution_count": 12,
      "outputs": [
        {
          "output_type": "execute_result",
          "data": {
            "text/plain": [
              "5"
            ]
          },
          "metadata": {},
          "execution_count": 12
        }
      ]
    },
    {
      "cell_type": "code",
      "source": [
        "type(attendance)"
      ],
      "metadata": {
        "colab": {
          "base_uri": "https://localhost:8080/"
        },
        "id": "hfTnlArlidMD",
        "outputId": "4897547f-7922-45e6-f2c7-99bd565ad0df"
      },
      "execution_count": 13,
      "outputs": [
        {
          "output_type": "execute_result",
          "data": {
            "text/plain": [
              "numpy.ndarray"
            ]
          },
          "metadata": {},
          "execution_count": 13
        }
      ]
    },
    {
      "cell_type": "markdown",
      "source": [
        "##Data cleaning and handling missing values\n",
        "###cahnging nan values in scores with mean value"
      ],
      "metadata": {
        "id": "cKskeKaJimSN"
      }
    },
    {
      "cell_type": "code",
      "source": [
        "# scores[np.isnan(scores)] #return an array of nan values\n",
        "scores"
      ],
      "metadata": {
        "colab": {
          "base_uri": "https://localhost:8080/"
        },
        "id": "M7eoBtPwizl7",
        "outputId": "d0389431-7c45-494a-daf6-01e9ab0b5410"
      },
      "execution_count": 37,
      "outputs": [
        {
          "output_type": "execute_result",
          "data": {
            "text/plain": [
              "array([[85., 78., 92.],\n",
              "       [88., nan, 80.],\n",
              "       [75., 85., 79.],\n",
              "       [nan, 90., 82.],\n",
              "       [89., 76., 91.]])"
            ]
          },
          "metadata": {},
          "execution_count": 37
        }
      ]
    },
    {
      "cell_type": "code",
      "source": [
        "column_score_0 = scores[ : ,0] # ignoring nan value find mean value at 0 index of column\n",
        "column_score_0\n",
        "\n",
        "\n",
        "# scores[3,0] = mean_value\n",
        "# scores"
      ],
      "metadata": {
        "colab": {
          "base_uri": "https://localhost:8080/"
        },
        "id": "OVi9P3rck6Sl",
        "outputId": "44f5b7fb-f60a-4fde-9d17-5c7390d9be33"
      },
      "execution_count": 38,
      "outputs": [
        {
          "output_type": "execute_result",
          "data": {
            "text/plain": [
              "array([85., 88., 75., nan, 89.])"
            ]
          },
          "metadata": {},
          "execution_count": 38
        }
      ]
    },
    {
      "cell_type": "code",
      "source": [
        "sum_value_0 = np.nansum(column_score_0)\n",
        "sum_value_0"
      ],
      "metadata": {
        "colab": {
          "base_uri": "https://localhost:8080/"
        },
        "id": "ApnfZurftJik",
        "outputId": "b8b29811-7c86-4928-9d67-c540d44553e7"
      },
      "execution_count": 39,
      "outputs": [
        {
          "output_type": "execute_result",
          "data": {
            "text/plain": [
              "337.0"
            ]
          },
          "metadata": {},
          "execution_count": 39
        }
      ]
    },
    {
      "cell_type": "code",
      "source": [
        "mean_value_0 = sum_value_0/5\n",
        "scores[3,0] = mean_value_0\n",
        "scores"
      ],
      "metadata": {
        "colab": {
          "base_uri": "https://localhost:8080/"
        },
        "id": "3ywIMk96vBIS",
        "outputId": "550d0529-262c-4a67-fc78-bc9e8bfb5cb2"
      },
      "execution_count": 40,
      "outputs": [
        {
          "output_type": "execute_result",
          "data": {
            "text/plain": [
              "array([[85. , 78. , 92. ],\n",
              "       [88. ,  nan, 80. ],\n",
              "       [75. , 85. , 79. ],\n",
              "       [67.4, 90. , 82. ],\n",
              "       [89. , 76. , 91. ]])"
            ]
          },
          "metadata": {},
          "execution_count": 40
        }
      ]
    },
    {
      "cell_type": "code",
      "source": [
        "column_score_1 = scores[ : ,1] # ignoring nan value find mean value at 1 index of column\n",
        "column_score_1"
      ],
      "metadata": {
        "colab": {
          "base_uri": "https://localhost:8080/"
        },
        "id": "ZoSeOrnxwGk-",
        "outputId": "7449c0b3-84ad-4d23-c0a6-8c4d8e6668bf"
      },
      "execution_count": 41,
      "outputs": [
        {
          "output_type": "execute_result",
          "data": {
            "text/plain": [
              "array([78., nan, 85., 90., 76.])"
            ]
          },
          "metadata": {},
          "execution_count": 41
        }
      ]
    },
    {
      "cell_type": "code",
      "source": [
        "sum_value_1 = np.nansum(column_score_0)\n",
        "sum_value_1"
      ],
      "metadata": {
        "colab": {
          "base_uri": "https://localhost:8080/"
        },
        "id": "psA6SYAtxZqF",
        "outputId": "f438c4f1-b813-4070-8692-c6dbf0612eae"
      },
      "execution_count": 42,
      "outputs": [
        {
          "output_type": "execute_result",
          "data": {
            "text/plain": [
              "404.4"
            ]
          },
          "metadata": {},
          "execution_count": 42
        }
      ]
    },
    {
      "cell_type": "code",
      "source": [
        "mean_value_1 = sum_value_0/5\n",
        "scores[1,1] = mean_value_1\n",
        "scores"
      ],
      "metadata": {
        "colab": {
          "base_uri": "https://localhost:8080/"
        },
        "id": "Eqo9FpnAxo-T",
        "outputId": "f3b7946d-0c76-41df-cbb1-d053c8d01977"
      },
      "execution_count": 43,
      "outputs": [
        {
          "output_type": "execute_result",
          "data": {
            "text/plain": [
              "array([[85. , 78. , 92. ],\n",
              "       [88. , 67.4, 80. ],\n",
              "       [75. , 85. , 79. ],\n",
              "       [67.4, 90. , 82. ],\n",
              "       [89. , 76. , 91. ]])"
            ]
          },
          "metadata": {},
          "execution_count": 43
        }
      ]
    },
    {
      "cell_type": "code",
      "source": [
        "#Repalcing nan value with mean\n",
        "# scores[np.isnan(scores)] = mean_value\n",
        "# scores"
      ],
      "metadata": {
        "colab": {
          "base_uri": "https://localhost:8080/"
        },
        "id": "ieh7zFKLlFPG",
        "outputId": "9b6c0f00-a28d-49ac-b2eb-fce953bad311"
      },
      "execution_count": 16,
      "outputs": [
        {
          "output_type": "execute_result",
          "data": {
            "text/plain": [
              "array([[85. , 78. , 92. ],\n",
              "       [88. , 67.4, 80. ],\n",
              "       [75. , 85. , 79. ],\n",
              "       [67.4, 90. , 82. ],\n",
              "       [89. , 76. , 91. ]])"
            ]
          },
          "metadata": {},
          "execution_count": 16
        }
      ]
    },
    {
      "cell_type": "markdown",
      "source": [
        "###Changing nan values with mean in attendance"
      ],
      "metadata": {
        "id": "1kvWm0asmje6"
      }
    },
    {
      "cell_type": "code",
      "source": [
        "attendance_mean = np.nanmean(attendance)\n",
        "attendance_mean"
      ],
      "metadata": {
        "colab": {
          "base_uri": "https://localhost:8080/"
        },
        "id": "Tpr93Jz5nCK-",
        "outputId": "a4610ef1-45b7-40ea-dba9-ec3718c26242"
      },
      "execution_count": 44,
      "outputs": [
        {
          "output_type": "execute_result",
          "data": {
            "text/plain": [
              "89.5"
            ]
          },
          "metadata": {},
          "execution_count": 44
        }
      ]
    },
    {
      "cell_type": "code",
      "source": [
        "attendance[np.isnan(attendance)] = attendance_mean\n",
        "attendance"
      ],
      "metadata": {
        "colab": {
          "base_uri": "https://localhost:8080/"
        },
        "id": "8-EcpuGumtlX",
        "outputId": "a280be31-1cfd-4194-d737-d23d946a545a"
      },
      "execution_count": 45,
      "outputs": [
        {
          "output_type": "execute_result",
          "data": {
            "text/plain": [
              "array([90. , 85. , 95. , 89.5, 88. ])"
            ]
          },
          "metadata": {},
          "execution_count": 45
        }
      ]
    },
    {
      "cell_type": "markdown",
      "source": [
        "##Calculate mean median std score of students"
      ],
      "metadata": {
        "id": "pRh7U7G0qWk_"
      }
    },
    {
      "cell_type": "code",
      "source": [
        "np.mean(scores)"
      ],
      "metadata": {
        "colab": {
          "base_uri": "https://localhost:8080/"
        },
        "id": "wjbgiyrmqVYS",
        "outputId": "cf7cf1c0-63c9-4a0f-b219-a8e184789ae7"
      },
      "execution_count": 46,
      "outputs": [
        {
          "output_type": "execute_result",
          "data": {
            "text/plain": [
              "81.65333333333334"
            ]
          },
          "metadata": {},
          "execution_count": 46
        }
      ]
    },
    {
      "cell_type": "code",
      "source": [
        "np.median(scores)"
      ],
      "metadata": {
        "colab": {
          "base_uri": "https://localhost:8080/"
        },
        "id": "Jz2r30fBq7Jc",
        "outputId": "ae129baa-7c08-4f9b-a175-3eb7f1ddd9c0"
      },
      "execution_count": 47,
      "outputs": [
        {
          "output_type": "execute_result",
          "data": {
            "text/plain": [
              "82.0"
            ]
          },
          "metadata": {},
          "execution_count": 47
        }
      ]
    },
    {
      "cell_type": "code",
      "source": [
        "np.std(scores)"
      ],
      "metadata": {
        "colab": {
          "base_uri": "https://localhost:8080/"
        },
        "id": "UWtiaiEbrBMs",
        "outputId": "56394b22-db39-44b5-88af-3f654e7b43d6"
      },
      "execution_count": 48,
      "outputs": [
        {
          "output_type": "execute_result",
          "data": {
            "text/plain": [
              "7.687727593740268"
            ]
          },
          "metadata": {},
          "execution_count": 48
        }
      ]
    },
    {
      "cell_type": "code",
      "source": [
        "np.max(scores)"
      ],
      "metadata": {
        "colab": {
          "base_uri": "https://localhost:8080/"
        },
        "id": "WSgYJp-ErEkL",
        "outputId": "9d22cf6c-bf3e-43ac-e696-6eb6d74f2667"
      },
      "execution_count": 49,
      "outputs": [
        {
          "output_type": "execute_result",
          "data": {
            "text/plain": [
              "92.0"
            ]
          },
          "metadata": {},
          "execution_count": 49
        }
      ]
    },
    {
      "cell_type": "code",
      "source": [
        "average_score = np.mean(scores , axis=1) #average score for each student\n",
        "average_score"
      ],
      "metadata": {
        "colab": {
          "base_uri": "https://localhost:8080/"
        },
        "id": "nHZXVM510r4v",
        "outputId": "a0a3dd42-9ddd-4caf-dc53-6ef46fe28e93"
      },
      "execution_count": 50,
      "outputs": [
        {
          "output_type": "execute_result",
          "data": {
            "text/plain": [
              "array([85.        , 78.46666667, 79.66666667, 79.8       , 85.33333333])"
            ]
          },
          "metadata": {},
          "execution_count": 50
        }
      ]
    },
    {
      "cell_type": "code",
      "source": [
        "total_scores = np.sum(scores, axis=1)\n",
        "performer_index = np.argmax(total_scores) #argmax method return first occurrences in case of multiple max values\n",
        "top_performer = students[performer_index]\n",
        "top_performer"
      ],
      "metadata": {
        "colab": {
          "base_uri": "https://localhost:8080/",
          "height": 35
        },
        "id": "3ou4n8x21Z_J",
        "outputId": "43ce65ac-16da-4b52-9fed-3c5197318ef1"
      },
      "execution_count": 52,
      "outputs": [
        {
          "output_type": "execute_result",
          "data": {
            "text/plain": [
              "'Emma'"
            ],
            "application/vnd.google.colaboratory.intrinsic+json": {
              "type": "string"
            }
          },
          "metadata": {},
          "execution_count": 52
        }
      ]
    }
  ]
}